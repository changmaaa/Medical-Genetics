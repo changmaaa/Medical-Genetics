{
 "cells": [
  {
   "cell_type": "code",
   "execution_count": 1,
   "metadata": {},
   "outputs": [
    {
     "name": "stdout",
     "output_type": "stream",
     "text": [
      "MRYTS"
     ]
    }
   ],
   "source": [
    "ref = {\"UUU\": \"F\", \"CUU\": \"L\", \"AUU\": \"I\", \"GUU\": \"V\",\n",
    "       \"UUC\": \"F\", \"CUC\": \"L\", \"AUC\": \"I\", \"GUC\": \"V\",\n",
    "       \"UUA\": \"L\", \"CUA\": \"L\", \"AUA\": \"I\", \"GUA\": \"V\",\n",
    "       \"UUG\": \"L\", \"CUG\": \"L\", \"AUG\": \"M\", \"GUG\": \"V\",\n",
    "       \"UCU\": \"S\", \"CCU\": \"P\", \"ACU\": \"T\", \"GCU\": \"A\",\n",
    "       \"UCC\": \"S\", \"CCC\": \"P\", \"ACC\": \"T\", \"GCC\": \"A\",\n",
    "       \"UCA\": \"S\", \"CCA\": \"P\", \"ACA\": \"T\", \"GCA\": \"A\",\n",
    "       \"UCG\": \"S\", \"CCG\": \"P\", \"ACG\": \"T\", \"GCG\": \"A\",\n",
    "       \"UAU\": \"Y\", \"CAU\": \"H\", \"AAU\": \"N\", \"GAU\": \"D\",\n",
    "       \"UAC\": \"Y\", \"CAC\": \"H\", \"AAC\": \"N\", \"GAC\": \"D\",\n",
    "       \"UAA\":  \"\", \"CAA\": \"Q\", \"AAA\": \"K\", \"GAA\": \"E\",\n",
    "       \"UAG\":  \"\", \"CAG\": \"Q\", \"AAG\": \"K\", \"GAG\": \"E\",\n",
    "       \"UGU\": \"C\", \"CGU\": \"R\", \"AGU\": \"S\", \"GGU\": \"G\",\n",
    "       \"UGC\": \"C\", \"CGC\": \"R\", \"AGC\": \"S\", \"GGC\": \"G\",\n",
    "       \"UGA\":  \"\", \"CGA\": \"R\", \"AGA\": \"R\", \"GGA\": \"G\",\n",
    "       \"UGG\": \"W\", \"CGG\": \"R\", \"AGG\": \"R\", \"GGG\": \"G\"\n",
    "    }\n",
    "\n",
    "while True:\n",
    "    seq = input(\"RNA : \")\n",
    "    length = len(seq)\n",
    "    if length % 3 == 0: break\n",
    "    else : print(\"retry, length is\", length)\n",
    "i = 0\n",
    "while True:\n",
    "    if i >= length: break\n",
    "    ins = seq[i:i+3].upper()\n",
    "    outs = ref[ins]\n",
    "    print(outs,end=\"\")\n",
    "    i += 3\n",
    "    "
   ]
  }
 ],
 "metadata": {
  "kernelspec": {
   "display_name": "Python 3",
   "language": "python",
   "name": "python3"
  },
  "language_info": {
   "codemirror_mode": {
    "name": "ipython",
    "version": 3
   },
   "file_extension": ".py",
   "mimetype": "text/x-python",
   "name": "python",
   "nbconvert_exporter": "python",
   "pygments_lexer": "ipython3",
   "version": "3.10.4"
  },
  "orig_nbformat": 4,
  "vscode": {
   "interpreter": {
    "hash": "aee8b7b246df8f9039afb4144a1f6fd8d2ca17a180786b69acc140d282b71a49"
   }
  }
 },
 "nbformat": 4,
 "nbformat_minor": 2
}
