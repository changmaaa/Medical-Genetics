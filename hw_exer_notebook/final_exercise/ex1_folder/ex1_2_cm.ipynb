{
 "cells": [
  {
   "cell_type": "code",
   "execution_count": 2,
   "metadata": {},
   "outputs": [
    {
     "name": "stdout",
     "output_type": "stream",
     "text": [
      "Inner circle :  3.141592653589793\n",
      "Outer circle :  12.566370614359172\n"
     ]
    }
   ],
   "source": [
    "import math\n",
    "square = int(input(\"Type area of square : \"))\n",
    "\n",
    "inner = math.pi * (square / 4)\n",
    "outer = math.pi * (square / 2)\n",
    "\n",
    "print(\"Inner circle : \", inner)\n",
    "print(\"Outer circle : \", outer)"
   ]
  }
 ],
 "metadata": {
  "kernelspec": {
   "display_name": "Python 3",
   "language": "python",
   "name": "python3"
  },
  "language_info": {
   "codemirror_mode": {
    "name": "ipython",
    "version": 3
   },
   "file_extension": ".py",
   "mimetype": "text/x-python",
   "name": "python",
   "nbconvert_exporter": "python",
   "pygments_lexer": "ipython3",
   "version": "3.10.4"
  },
  "orig_nbformat": 4,
  "vscode": {
   "interpreter": {
    "hash": "aee8b7b246df8f9039afb4144a1f6fd8d2ca17a180786b69acc140d282b71a49"
   }
  }
 },
 "nbformat": 4,
 "nbformat_minor": 2
}
