{
 "cells": [
  {
   "cell_type": "code",
   "execution_count": 1,
   "metadata": {},
   "outputs": [
    {
     "name": "stdout",
     "output_type": "stream",
     "text": [
      "Target of DB00895\n",
      "9606.ENSP00000357097\n",
      "9606.ENSP00000289902\n"
     ]
    }
   ],
   "source": [
    "file_dir = \"/Users/yuchangmin/Documents/Medical Genetics/hw_exer_notebook/final_exercise/ex1_folder/drug_target.txt\"\n",
    "f = open(file_dir, 'r')\n",
    "\n",
    "drug_dic = {}\n",
    "\n",
    "while True:\n",
    "    line = f.readline().strip()\n",
    "    if not line : break\n",
    "    drug = line.split('|')[0]\n",
    "    target = line.split('|')[1].split(',')\n",
    "    drug_dic[drug] = target\n",
    "\n",
    "f.close()\n",
    "user_drug = input(\"Type drug code : \")\n",
    "if user_drug in drug_dic.keys():\n",
    "    target_li = drug_dic[user_drug]\n",
    "    print(\"Target of\", user_drug)\n",
    "    for target in target_li:\n",
    "        print(target)\n",
    "else:\n",
    "    print(\"Incorrect Drug\")"
   ]
  }
 ],
 "metadata": {
  "kernelspec": {
   "display_name": "Python 3",
   "language": "python",
   "name": "python3"
  },
  "language_info": {
   "codemirror_mode": {
    "name": "ipython",
    "version": 3
   },
   "file_extension": ".py",
   "mimetype": "text/x-python",
   "name": "python",
   "nbconvert_exporter": "python",
   "pygments_lexer": "ipython3",
   "version": "3.10.4"
  },
  "orig_nbformat": 4,
  "vscode": {
   "interpreter": {
    "hash": "aee8b7b246df8f9039afb4144a1f6fd8d2ca17a180786b69acc140d282b71a49"
   }
  }
 },
 "nbformat": 4,
 "nbformat_minor": 2
}
