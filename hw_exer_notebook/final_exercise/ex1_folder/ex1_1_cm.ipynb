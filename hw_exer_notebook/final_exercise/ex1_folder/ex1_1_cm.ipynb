{
 "cells": [
  {
   "cell_type": "code",
   "execution_count": 1,
   "metadata": {},
   "outputs": [
    {
     "name": "stdout",
     "output_type": "stream",
     "text": [
      "previous sentence : i ate 3 apples and 5 bananas\n",
      "Fixed sentence : i ate three apples and five bananas\n"
     ]
    }
   ],
   "source": [
    "num_dic = {\n",
    "    '1' : 'one',\n",
    "    '2' : 'two',\n",
    "    '3' : 'three',\n",
    "    '4' : 'four',\n",
    "    '5' : 'five',\n",
    "    '6' : 'six',\n",
    "    '7' : 'seven',\n",
    "    '8' : 'eight',\n",
    "    '9' : 'nine',\n",
    "    '0' : 'zero'\n",
    "}\n",
    "\n",
    "seq = input(\"Type sentence : \")\n",
    "print(\"previous sentence :\", seq)\n",
    "for i in seq:\n",
    "    if i in num_dic.keys():\n",
    "        seq = seq.replace(i, num_dic[i])\n",
    "print(\"Fixed sentence :\", seq)"
   ]
  }
 ],
 "metadata": {
  "kernelspec": {
   "display_name": "Python 3",
   "language": "python",
   "name": "python3"
  },
  "language_info": {
   "codemirror_mode": {
    "name": "ipython",
    "version": 3
   },
   "file_extension": ".py",
   "mimetype": "text/x-python",
   "name": "python",
   "nbconvert_exporter": "python",
   "pygments_lexer": "ipython3",
   "version": "3.10.4"
  },
  "orig_nbformat": 4,
  "vscode": {
   "interpreter": {
    "hash": "aee8b7b246df8f9039afb4144a1f6fd8d2ca17a180786b69acc140d282b71a49"
   }
  }
 },
 "nbformat": 4,
 "nbformat_minor": 2
}
