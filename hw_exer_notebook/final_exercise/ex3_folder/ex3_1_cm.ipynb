{
 "cells": [
  {
   "cell_type": "code",
   "execution_count": null,
   "metadata": {},
   "outputs": [],
   "source": [
    "import sys\n",
    "motif_dir = sys.argv[1]\n",
    "dna_dir = sys.argv[2]\n",
    "cutoff = float(sys.argv[3])\n",
    "\n",
    "root_dir = \"/Users/yuchangmin/Documents/Medical Genetics/hw_exer_notebook/final_exercise/ex3_folder/\"\n",
    "motif_dir = root_dir + sys.argv[1]\n",
    "dna_dir = root_dir + sys.argv[2]"
   ]
  }
 ],
 "metadata": {
  "kernelspec": {
   "display_name": "Python 3",
   "language": "python",
   "name": "python3"
  },
  "language_info": {
   "name": "python",
   "version": "3.10.4 (v3.10.4:9d38120e33, Mar 23 2022, 17:29:05) [Clang 13.0.0 (clang-1300.0.29.30)]"
  },
  "orig_nbformat": 4,
  "vscode": {
   "interpreter": {
    "hash": "aee8b7b246df8f9039afb4144a1f6fd8d2ca17a180786b69acc140d282b71a49"
   }
  }
 },
 "nbformat": 4,
 "nbformat_minor": 2
}
