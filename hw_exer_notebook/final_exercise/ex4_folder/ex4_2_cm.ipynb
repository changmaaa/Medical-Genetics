{
 "cells": [
  {
   "cell_type": "code",
   "execution_count": 1,
   "metadata": {},
   "outputs": [
    {
     "name": "stdout",
     "output_type": "stream",
     "text": [
      "The PID Score :  0.3163265306122449\n"
     ]
    }
   ],
   "source": [
    "import re\n",
    "f = open(\"/Users/yuchangmin/Documents/Medical Genetics/pairwise_aln.fa\", 'r')\n",
    "f1 = f.readlines()\n",
    "f1_new = []\n",
    "for line in f1:\n",
    "    line = line.strip()\n",
    "    f1_new.append(line)\n",
    "cow = []\n",
    "cow.append(f1_new[1])\n",
    "cow.append(f1_new[2])\n",
    "dog = []\n",
    "dog.append(f1_new[4])\n",
    "dog.append(f1_new[5])\n",
    "dog_str = \"\".join(dog)\n",
    "cow_str = \"\".join(cow)\n",
    "mat = 0\n",
    "nomat = 0\n",
    "ind = 0\n",
    "for i in range(len(dog_str)):\n",
    "    if dog_str[i] == cow_str[i]:\n",
    "       mat += 1\n",
    "    elif (dog_str[i] == '-') or (cow_str[i] == '-'):\n",
    "        ind += 1\n",
    "    else:\n",
    "        nomat += 1\n",
    "total = len(dog_str)\n",
    "pid = mat / total\n",
    "print(\"The PID Score : \", pid)"
   ]
  }
 ],
 "metadata": {
  "kernelspec": {
   "display_name": "Python 3.10.4 64-bit",
   "language": "python",
   "name": "python3"
  },
  "language_info": {
   "codemirror_mode": {
    "name": "ipython",
    "version": 3
   },
   "file_extension": ".py",
   "mimetype": "text/x-python",
   "name": "python",
   "nbconvert_exporter": "python",
   "pygments_lexer": "ipython3",
   "version": "3.10.4 (v3.10.4:9d38120e33, Mar 23 2022, 17:29:05) [Clang 13.0.0 (clang-1300.0.29.30)]"
  },
  "orig_nbformat": 4,
  "vscode": {
   "interpreter": {
    "hash": "aee8b7b246df8f9039afb4144a1f6fd8d2ca17a180786b69acc140d282b71a49"
   }
  }
 },
 "nbformat": 4,
 "nbformat_minor": 2
}
