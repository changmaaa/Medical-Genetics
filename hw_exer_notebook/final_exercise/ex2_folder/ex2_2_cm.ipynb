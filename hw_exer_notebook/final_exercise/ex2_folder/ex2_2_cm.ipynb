{
 "cells": [
  {
   "cell_type": "code",
   "execution_count": 2,
   "metadata": {},
   "outputs": [
    {
     "name": "stdout",
     "output_type": "stream",
     "text": [
      "[17, 90, 97, 124, 131, 177, 256, 273, 306, 365, 372, 422, 446, 462, 507, 523, 601, 657, 664, 750, 774, 828]\n"
     ]
    }
   ],
   "source": [
    "file_dic = \"/Users/yuchangmin/Documents/Medical Genetics/hw_exer_notebook/final_exercise/ex2_folder/DNA_seq.txt\"\n",
    "f = open(file_dic,'r')\n",
    "seq = f.readline()\n",
    "motif = input(\"Put your motif : \")\n",
    "motif_li = []\n",
    "for i in range(len(seq)):\n",
    "    if seq[i:i+9] == motif:\n",
    "        motif_li.append(i+1)\n",
    "print(motif_li)"
   ]
  }
 ],
 "metadata": {
  "kernelspec": {
   "display_name": "Python 3",
   "language": "python",
   "name": "python3"
  },
  "language_info": {
   "codemirror_mode": {
    "name": "ipython",
    "version": 3
   },
   "file_extension": ".py",
   "mimetype": "text/x-python",
   "name": "python",
   "nbconvert_exporter": "python",
   "pygments_lexer": "ipython3",
   "version": "3.10.4 (v3.10.4:9d38120e33, Mar 23 2022, 17:29:05) [Clang 13.0.0 (clang-1300.0.29.30)]"
  },
  "orig_nbformat": 4,
  "vscode": {
   "interpreter": {
    "hash": "aee8b7b246df8f9039afb4144a1f6fd8d2ca17a180786b69acc140d282b71a49"
   }
  }
 },
 "nbformat": 4,
 "nbformat_minor": 2
}
