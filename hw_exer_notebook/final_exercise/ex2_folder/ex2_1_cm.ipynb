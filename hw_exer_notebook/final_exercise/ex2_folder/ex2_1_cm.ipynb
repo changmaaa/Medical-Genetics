{
 "cells": [
  {
   "cell_type": "code",
   "execution_count": 1,
   "metadata": {},
   "outputs": [
    {
     "name": "stdout",
     "output_type": "stream",
     "text": [
      "total length :  32\n",
      "mismatch count :  16\n"
     ]
    }
   ],
   "source": [
    "seq1 = \"CCCCCCAATTGTAACAATCGTCGTAGACCGTG\"\n",
    "seq2 = \"ACCGCAGTCCGTGACTTTCGTCCTACGCATAG\"\n",
    "\n",
    "seq1_list = list(seq1)\n",
    "seq2_list = list(seq2)\n",
    "l = len(seq1_list)\n",
    "\n",
    "final = 0\n",
    "for i in range(l):\n",
    "    if seq1_list[i] != seq2_list[i]:\n",
    "        final += 1 \n",
    "print(\"total length : \", l)\n",
    "print(\"mismatch count : \",final)"
   ]
  }
 ],
 "metadata": {
  "kernelspec": {
   "display_name": "Python 3",
   "language": "python",
   "name": "python3"
  },
  "language_info": {
   "codemirror_mode": {
    "name": "ipython",
    "version": 3
   },
   "file_extension": ".py",
   "mimetype": "text/x-python",
   "name": "python",
   "nbconvert_exporter": "python",
   "pygments_lexer": "ipython3",
   "version": "3.10.4 (v3.10.4:9d38120e33, Mar 23 2022, 17:29:05) [Clang 13.0.0 (clang-1300.0.29.30)]"
  },
  "orig_nbformat": 4,
  "vscode": {
   "interpreter": {
    "hash": "aee8b7b246df8f9039afb4144a1f6fd8d2ca17a180786b69acc140d282b71a49"
   }
  }
 },
 "nbformat": 4,
 "nbformat_minor": 2
}
