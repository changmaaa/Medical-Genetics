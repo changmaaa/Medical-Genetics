{
 "cells": [
  {
   "cell_type": "code",
   "execution_count": 3,
   "metadata": {},
   "outputs": [
    {
     "name": "stdout",
     "output_type": "stream",
     "text": [
      "gene ID 14 : symbols is AAMP and the number of synonyms is 0\n",
      "gene ID 1 : symbols is A1BG and the number of synonyms is 4\n",
      "4 is not in file\n"
     ]
    }
   ],
   "source": [
    "file_dir = \"/Users/yuchangmin/Documents/Medical Genetics/hw_exer_notebook/final_exercise/ex2_folder/Homo_sapiens_gene_Synonyms.txt\"\n",
    "f = open(file_dir, 'r')\n",
    "dic = {}\n",
    "while True:\n",
    "    line = f.readline().strip()\n",
    "    if not line: break\n",
    "    if \"GeneID\" in line: continue\n",
    "    temp = line.split(\"\\t\")\n",
    "    dic[temp[0]] = [temp[1], temp[2].split(\"|\")]\n",
    "f.close()\n",
    "while True:\n",
    "    GI = input(\"Gene ID : \")\n",
    "    if GI not in dic.keys(): \n",
    "        print(GI,\"is not in file\")\n",
    "        break\n",
    "    symbol = dic[GI][0]\n",
    "    synonyms = dic[GI][1]\n",
    "    if \"-\" in synonyms:\n",
    "        sy_num = 0\n",
    "    else:\n",
    "        sy_num = len(synonyms)\n",
    "    print(\"gene ID\",GI,\": symbols is\",symbol,\"and the number of synonyms is\", sy_num)"
   ]
  }
 ],
 "metadata": {
  "kernelspec": {
   "display_name": "Python 3",
   "language": "python",
   "name": "python3"
  },
  "language_info": {
   "codemirror_mode": {
    "name": "ipython",
    "version": 3
   },
   "file_extension": ".py",
   "mimetype": "text/x-python",
   "name": "python",
   "nbconvert_exporter": "python",
   "pygments_lexer": "ipython3",
   "version": "3.10.4 (v3.10.4:9d38120e33, Mar 23 2022, 17:29:05) [Clang 13.0.0 (clang-1300.0.29.30)]"
  },
  "orig_nbformat": 4,
  "vscode": {
   "interpreter": {
    "hash": "aee8b7b246df8f9039afb4144a1f6fd8d2ca17a180786b69acc140d282b71a49"
   }
  }
 },
 "nbformat": 4,
 "nbformat_minor": 2
}
